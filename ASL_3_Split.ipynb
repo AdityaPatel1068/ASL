{
 "cells": [
  {
   "cell_type": "code",
   "execution_count": 9,
   "metadata": {},
   "outputs": [
    {
     "ename": "NotADirectoryError",
     "evalue": "[Errno 20] Not a directory: '/Users/aditya/Desktop/Class/DS675Machine Learning/Project/DATASET/PRO/.DS_Store'",
     "output_type": "error",
     "traceback": [
      "\u001b[0;31m---------------------------------------------------------------------------\u001b[0m",
      "\u001b[0;31mNotADirectoryError\u001b[0m                        Traceback (most recent call last)",
      "Input \u001b[0;32mIn [9]\u001b[0m, in \u001b[0;36m<cell line: 34>\u001b[0;34m()\u001b[0m\n\u001b[1;32m     31\u001b[0m preprocessed_images_folder_path \u001b[38;5;241m=\u001b[39m \u001b[38;5;124m'\u001b[39m\u001b[38;5;124m/Users/aditya/Desktop/Class/DS675Machine Learning/Project/DATASET/PRO\u001b[39m\u001b[38;5;124m'\u001b[39m\n\u001b[1;32m     33\u001b[0m \u001b[38;5;66;03m# Organize data into train and test folders\u001b[39;00m\n\u001b[0;32m---> 34\u001b[0m \u001b[43morganize_data\u001b[49m\u001b[43m(\u001b[49m\u001b[43mpreprocessed_images_folder_path\u001b[49m\u001b[43m,\u001b[49m\u001b[43m \u001b[49m\u001b[38;5;124;43m'\u001b[39;49m\u001b[38;5;124;43m/Users/aditya/Desktop/Class/DS675Machine Learning/Project/DATASET/SPLIT\u001b[39;49m\u001b[38;5;124;43m'\u001b[39;49m\u001b[43m)\u001b[49m\n",
      "Input \u001b[0;32mIn [9]\u001b[0m, in \u001b[0;36morganize_data\u001b[0;34m(src_folder, dest_folder, test_size, random_state)\u001b[0m\n\u001b[1;32m     15\u001b[0m os\u001b[38;5;241m.\u001b[39mmakedirs(test_folder, exist_ok\u001b[38;5;241m=\u001b[39m\u001b[38;5;28;01mTrue\u001b[39;00m)\n\u001b[1;32m     17\u001b[0m \u001b[38;5;66;03m# Filter out non-image files\u001b[39;00m\n\u001b[0;32m---> 18\u001b[0m images \u001b[38;5;241m=\u001b[39m [image \u001b[38;5;28;01mfor\u001b[39;00m image \u001b[38;5;129;01min\u001b[39;00m \u001b[43mos\u001b[49m\u001b[38;5;241;43m.\u001b[39;49m\u001b[43mlistdir\u001b[49m\u001b[43m(\u001b[49m\u001b[43mclass_folder\u001b[49m\u001b[43m)\u001b[49m \u001b[38;5;28;01mif\u001b[39;00m image\u001b[38;5;241m.\u001b[39mlower()\u001b[38;5;241m.\u001b[39mendswith((\u001b[38;5;124m'\u001b[39m\u001b[38;5;124m.png\u001b[39m\u001b[38;5;124m'\u001b[39m, \u001b[38;5;124m'\u001b[39m\u001b[38;5;124m.jpg\u001b[39m\u001b[38;5;124m'\u001b[39m, \u001b[38;5;124m'\u001b[39m\u001b[38;5;124m.jpeg\u001b[39m\u001b[38;5;124m'\u001b[39m))]\n\u001b[1;32m     20\u001b[0m \u001b[38;5;66;03m# Split the data into train and test sets\u001b[39;00m\n\u001b[1;32m     21\u001b[0m train_images, test_images \u001b[38;5;241m=\u001b[39m train_test_split(images, test_size\u001b[38;5;241m=\u001b[39mtest_size, random_state\u001b[38;5;241m=\u001b[39mrandom_state)\n",
      "\u001b[0;31mNotADirectoryError\u001b[0m: [Errno 20] Not a directory: '/Users/aditya/Desktop/Class/DS675Machine Learning/Project/DATASET/PRO/.DS_Store'"
     ]
    }
   ],
   "source": [
    "import os\n",
    "import shutil\n",
    "from sklearn.model_selection import train_test_split\n",
    "\n",
    "# Function to organize data into train and test folders\n",
    "def organize_data(src_folder, dest_folder, test_size=0.2, random_state=42):\n",
    "    classes = os.listdir(src_folder)\n",
    "\n",
    "    for class_name in classes:\n",
    "        class_folder = os.path.join(src_folder, class_name)\n",
    "\n",
    "        # Skip if it's not a directory (e.g., .DS_Store)\n",
    "        if not os.path.isdir(class_folder):\n",
    "            continue\n",
    "\n",
    "        train_folder = os.path.join(dest_folder, 'train', class_name)\n",
    "        test_folder = os.path.join(dest_folder, 'test', class_name)\n",
    "\n",
    "        os.makedirs(train_folder, exist_ok=True)\n",
    "        os.makedirs(test_folder, exist_ok=True)\n",
    "\n",
    "        # Filter out non-image files\n",
    "        images = [image for image in os.listdir(class_folder) if image.lower().endswith(('.png', '.jpg', '.jpeg'))]\n",
    "\n",
    "        # Split the data into train and test sets\n",
    "        train_images, test_images = train_test_split(images, test_size=test_size, random_state=random_state)\n",
    "\n",
    "        # Copy images to train and test folders\n",
    "        for image in train_images:\n",
    "            shutil.copy(os.path.join(class_folder, image), os.path.join(train_folder, image))\n",
    "\n",
    "        for image in test_images:\n",
    "            shutil.copy(os.path.join(class_folder, image), os.path.join(test_folder, image))\n",
    "\n",
    "# Specify the path to the preprocessed images\n",
    "preprocessed_images_folder_path = '/Users/aditya/Desktop/Class/DS675Machine Learning/Project/DATASET/PRO'\n",
    "\n",
    "# Organize data into train and test folders\n",
    "organize_data(preprocessed_images_folder_path, '/Users/aditya/Desktop/Class/DS675Machine Learning/Project/DATASET/SPLIT')\n"
   ]
  }
 ],
 "metadata": {
  "kernelspec": {
   "display_name": "Python 3",
   "language": "python",
   "name": "python3"
  },
  "language_info": {
   "codemirror_mode": {
    "name": "ipython",
    "version": 3
   },
   "file_extension": ".py",
   "mimetype": "text/x-python",
   "name": "python",
   "nbconvert_exporter": "python",
   "pygments_lexer": "ipython3",
   "version": "3.10.4"
  }
 },
 "nbformat": 4,
 "nbformat_minor": 2
}
