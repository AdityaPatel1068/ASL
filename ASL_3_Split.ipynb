{
 "cells": [
  {
   "cell_type": "code",
   "execution_count": null,
   "metadata": {},
   "outputs": [],
   "source": [
    "from sklearn.model_selection import train_test_split\n",
    "import os\n",
    "import shutil\n",
    "\n",
    "# Assuming your dataset is organized by class folders\n",
    "dataset_folder_path = '/Users/aditya/Desktop/Class/DS675Machine Learning/Project/DATASET/PRO'\n",
    "train_folder_path = '/Users/aditya/Desktop/Class/DS675Machine Learning/Project/DATASET/SPLIT/train'\n",
    "test_folder_path = '/Users/aditya/Desktop/Class/DS675Machine Learning/Project/DATASET/SPLIT/test'\n",
    "\n",
    "# Create train and test folders if they don't exist\n",
    "os.makedirs(train_folder_path, exist_ok=True)\n",
    "os.makedirs(test_folder_path, exist_ok=True)\n",
    "\n",
    "# Loop through each class folder in the dataset\n",
    "for class_folder in os.listdir(dataset_folder_path):\n",
    "    class_folder_path = os.path.join(dataset_folder_path, class_folder)\n",
    "\n",
    "    # Get a list of images in the class folder\n",
    "    images = [image for image in os.listdir(class_folder_path) if image.lower().endswith(('.png', '.jpg', '.jpeg'))]\n",
    "\n",
    "    # Split the images into train and test sets\n",
    "    train_images, test_images = train_test_split(images, test_size=0.2, random_state=42)\n",
    "\n",
    "    # Move the train images to the train folder\n",
    "    for image in train_images:\n",
    "        src_path = os.path.join(class_folder_path, image)\n",
    "        dest_path = os.path.join(train_folder_path, class_folder, image)\n",
    "        os.makedirs(os.path.dirname(dest_path), exist_ok=True)\n",
    "        shutil.move(src_path, dest_path)\n",
    "\n",
    "    # Move the test images to the test folder\n",
    "    for image in test_images:\n",
    "        src_path = os.path.join(class_folder_path, image)\n",
    "        dest_path = os.path.join(test_folder_path, class_folder, image)\n",
    "        os.makedirs(os.path.dirname(dest_path), exist_ok=True)\n",
    "        shutil.move(src_path, dest_path)\n",
    "\n",
    "print(\"Dataset split into train and test sets.\")\n"
   ]
  }
 ],
 "metadata": {
  "language_info": {
   "name": "python"
  }
 },
 "nbformat": 4,
 "nbformat_minor": 2
}
