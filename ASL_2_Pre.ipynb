{
 "cells": [
  {
   "cell_type": "code",
   "execution_count": 3,
   "metadata": {},
   "outputs": [
    {
     "name": "stdout",
     "output_type": "stream",
     "text": [
      "Error processing /Users/aditya/Desktop/Class/DS675Machine Learning/Project/DATASET/NBRAW/Train_Alphabet/.DS_Store: cannot identify image file '/Users/aditya/Desktop/Class/DS675Machine Learning/Project/DATASET/NBRAW/Train_Alphabet/.DS_Store'\n",
      "Error processing /Users/aditya/Desktop/Class/DS675Machine Learning/Project/DATASET/NBRAW/Train_Alphabet/R: [Errno 21] Is a directory: '/Users/aditya/Desktop/Class/DS675Machine Learning/Project/DATASET/NBRAW/Train_Alphabet/R'\n",
      "Error processing /Users/aditya/Desktop/Class/DS675Machine Learning/Project/DATASET/NBRAW/Train_Alphabet/U: [Errno 21] Is a directory: '/Users/aditya/Desktop/Class/DS675Machine Learning/Project/DATASET/NBRAW/Train_Alphabet/U'\n",
      "Error processing /Users/aditya/Desktop/Class/DS675Machine Learning/Project/DATASET/NBRAW/Train_Alphabet/I: [Errno 21] Is a directory: '/Users/aditya/Desktop/Class/DS675Machine Learning/Project/DATASET/NBRAW/Train_Alphabet/I'\n",
      "Error processing /Users/aditya/Desktop/Class/DS675Machine Learning/Project/DATASET/NBRAW/Train_Alphabet/N: [Errno 21] Is a directory: '/Users/aditya/Desktop/Class/DS675Machine Learning/Project/DATASET/NBRAW/Train_Alphabet/N'\n",
      "Error processing /Users/aditya/Desktop/Class/DS675Machine Learning/Project/DATASET/NBRAW/Train_Alphabet/G: [Errno 21] Is a directory: '/Users/aditya/Desktop/Class/DS675Machine Learning/Project/DATASET/NBRAW/Train_Alphabet/G'\n",
      "Error processing /Users/aditya/Desktop/Class/DS675Machine Learning/Project/DATASET/NBRAW/Train_Alphabet/Z: [Errno 21] Is a directory: '/Users/aditya/Desktop/Class/DS675Machine Learning/Project/DATASET/NBRAW/Train_Alphabet/Z'\n",
      "Error processing /Users/aditya/Desktop/Class/DS675Machine Learning/Project/DATASET/NBRAW/Train_Alphabet/T: [Errno 21] Is a directory: '/Users/aditya/Desktop/Class/DS675Machine Learning/Project/DATASET/NBRAW/Train_Alphabet/T'\n",
      "Error processing /Users/aditya/Desktop/Class/DS675Machine Learning/Project/DATASET/NBRAW/Train_Alphabet/A: [Errno 21] Is a directory: '/Users/aditya/Desktop/Class/DS675Machine Learning/Project/DATASET/NBRAW/Train_Alphabet/A'\n",
      "Error processing /Users/aditya/Desktop/Class/DS675Machine Learning/Project/DATASET/NBRAW/Train_Alphabet/C: [Errno 21] Is a directory: '/Users/aditya/Desktop/Class/DS675Machine Learning/Project/DATASET/NBRAW/Train_Alphabet/C'\n",
      "Error processing /Users/aditya/Desktop/Class/DS675Machine Learning/Project/DATASET/NBRAW/Train_Alphabet/D: [Errno 21] Is a directory: '/Users/aditya/Desktop/Class/DS675Machine Learning/Project/DATASET/NBRAW/Train_Alphabet/D'\n",
      "Error processing /Users/aditya/Desktop/Class/DS675Machine Learning/Project/DATASET/NBRAW/Train_Alphabet/V: [Errno 21] Is a directory: '/Users/aditya/Desktop/Class/DS675Machine Learning/Project/DATASET/NBRAW/Train_Alphabet/V'\n",
      "Error processing /Users/aditya/Desktop/Class/DS675Machine Learning/Project/DATASET/NBRAW/Train_Alphabet/X: [Errno 21] Is a directory: '/Users/aditya/Desktop/Class/DS675Machine Learning/Project/DATASET/NBRAW/Train_Alphabet/X'\n",
      "Error processing /Users/aditya/Desktop/Class/DS675Machine Learning/Project/DATASET/NBRAW/Train_Alphabet/E: [Errno 21] Is a directory: '/Users/aditya/Desktop/Class/DS675Machine Learning/Project/DATASET/NBRAW/Train_Alphabet/E'\n",
      "Error processing /Users/aditya/Desktop/Class/DS675Machine Learning/Project/DATASET/NBRAW/Train_Alphabet/B: [Errno 21] Is a directory: '/Users/aditya/Desktop/Class/DS675Machine Learning/Project/DATASET/NBRAW/Train_Alphabet/B'\n",
      "Error processing /Users/aditya/Desktop/Class/DS675Machine Learning/Project/DATASET/NBRAW/Train_Alphabet/L: [Errno 21] Is a directory: '/Users/aditya/Desktop/Class/DS675Machine Learning/Project/DATASET/NBRAW/Train_Alphabet/L'\n",
      "Error processing /Users/aditya/Desktop/Class/DS675Machine Learning/Project/DATASET/NBRAW/Train_Alphabet/Y: [Errno 21] Is a directory: '/Users/aditya/Desktop/Class/DS675Machine Learning/Project/DATASET/NBRAW/Train_Alphabet/Y'\n",
      "Error processing /Users/aditya/Desktop/Class/DS675Machine Learning/Project/DATASET/NBRAW/Train_Alphabet/W: [Errno 21] Is a directory: '/Users/aditya/Desktop/Class/DS675Machine Learning/Project/DATASET/NBRAW/Train_Alphabet/W'\n"
     ]
    }
   ],
   "source": [
    "import os\n",
    "from PIL import Image\n",
    "import random\n",
    "\n",
    "# Function to preprocess and save samples without data augmentation\n",
    "def preprocess_and_save_images(input_folder, output_folder, target_size=(256, 256)):\n",
    "    total_images = 0\n",
    "    total_processed_images = 0\n",
    "\n",
    "    for root, dirs, files in os.walk(input_folder):\n",
    "        for folder in dirs:\n",
    "            current_folder_path = os.path.join(root, folder)\n",
    "            output_folder_path = os.path.join(output_folder, folder)\n",
    "\n",
    "            # Create the output folder for the current class if it doesn't exist\n",
    "            os.makedirs(output_folder_path, exist_ok=True)\n",
    "\n",
    "            for image_name in os.listdir(current_folder_path):\n",
    "                total_images += 1\n",
    "\n",
    "                input_image_path = os.path.join(current_folder_path, image_name)\n",
    "                output_image_path = os.path.join(output_folder_path, f\"{folder}_{image_name}\")\n",
    "\n",
    "                # Preprocess and save the image\n",
    "                if image_process(input_image_path, output_image_path, target_size):\n",
    "                    total_processed_images += 1\n",
    "\n",
    "\n",
    "# Function to preprocess and save a single image\n",
    "def image_process(input_image_path, output_image_path, target_size=(256, 256)):\n",
    "    try:\n",
    "        # Open the image\n",
    "        image = Image.open(input_image_path)\n",
    "\n",
    "        # Resize the image\n",
    "        resized_image = image.resize(target_size)\n",
    "\n",
    "        # Convert the image to grayscale\n",
    "        grayscale_image = resized_image.convert(\"L\")\n",
    "\n",
    "        # Remove random noise (example: salt and pepper noise)\n",
    "        noisy_image = grayscale_image.point(lambda p: p + random.choice([-50, 0, 50]) if random.random() < 0.05 else p)\n",
    "\n",
    "        # Save the preprocessed image without compression\n",
    "        noisy_image.save(output_image_path)\n",
    "\n",
    "        return True\n",
    "    except Exception as e:\n",
    "        print(f\"Error processing {input_image_path}: {str(e)}\")\n",
    "        return False\n",
    "\n",
    "\n",
    "# Specify the paths to the original images and the output folder\n",
    "original_images_folder_path = '/Users/aditya/Desktop/Class/DS675Machine Learning/Project/DATASET/NBRAW'\n",
    "output_folder_path = '/Users/aditya/Desktop/Class/DS675Machine Learning/Project/DATASET/PRO'\n",
    "# Preprocess and save all images without data augmentation and organize them into folders by class\n",
    "preprocess_and_save_images(original_images_folder_path, output_folder_path)\n"
   ]
  }
 ],
 "metadata": {
  "kernelspec": {
   "display_name": "Python 3",
   "language": "python",
   "name": "python3"
  },
  "language_info": {
   "codemirror_mode": {
    "name": "ipython",
    "version": 3
   },
   "file_extension": ".py",
   "mimetype": "text/x-python",
   "name": "python",
   "nbconvert_exporter": "python",
   "pygments_lexer": "ipython3",
   "version": "3.10.4"
  }
 },
 "nbformat": 4,
 "nbformat_minor": 2
}
